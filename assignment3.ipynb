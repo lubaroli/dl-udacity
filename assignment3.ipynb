{
 "cells": [
  {
   "cell_type": "markdown",
   "metadata": {},
   "source": [
    "# Deep Learning\n",
    "## Assignment 3\n",
    "Previously in assignment2.ipynb, we trained a logistic regression and a neural network model.\n",
    "The goal of this assignment is to explore regularization techniques."
   ]
  },
  {
   "cell_type": "code",
   "execution_count": 1,
   "metadata": {
    "collapsed": true
   },
   "outputs": [],
   "source": [
    "from __future__ import print_function\n",
    "import numpy as np\n",
    "import tensorflow as tf\n",
    "import matplotlib.pyplot as plt\n",
    "from six.moves import cPickle as pickle\n",
    "\n",
    "%matplotlib inline"
   ]
  },
  {
   "cell_type": "markdown",
   "metadata": {},
   "source": [
    "First reload the data we generated in assignment1.ipynb."
   ]
  },
  {
   "cell_type": "code",
   "execution_count": 2,
   "metadata": {},
   "outputs": [
    {
     "name": "stdout",
     "output_type": "stream",
     "text": [
      "Training set (200000, 28, 28) (200000,)\n",
      "Validation set (10000, 28, 28) (10000,)\n",
      "Test set (10000, 28, 28) (10000,)\n"
     ]
    }
   ],
   "source": [
    "pickle_file = 'notMNIST.pickle'\n",
    "\n",
    "with open(pickle_file, 'rb') as f:\n",
    "    save = pickle.load(f)\n",
    "    train_dataset = save['train_dataset']\n",
    "    train_labels = save['train_labels']\n",
    "    valid_dataset = save['valid_dataset']\n",
    "    valid_labels = save['valid_labels']\n",
    "    test_dataset = save['test_dataset']\n",
    "    test_labels = save['test_labels']\n",
    "    del save  # hint to help gc free up memory\n",
    "    print('Training set', train_dataset.shape, train_labels.shape)\n",
    "    print('Validation set', valid_dataset.shape, valid_labels.shape)\n",
    "    print('Test set', test_dataset.shape, test_labels.shape)"
   ]
  },
  {
   "cell_type": "markdown",
   "metadata": {},
   "source": [
    "Reformat into a shape that's more adapted to the models we're going to train:\n",
    "data as a flat matrix,\n",
    "labels as float 1-hot encodings."
   ]
  },
  {
   "cell_type": "code",
   "execution_count": 3,
   "metadata": {},
   "outputs": [
    {
     "name": "stdout",
     "output_type": "stream",
     "text": [
      "Training set (200000, 784) (200000, 10)\n",
      "Validation set (10000, 784) (10000, 10)\n",
      "Test set (10000, 784) (10000, 10)\n"
     ]
    }
   ],
   "source": [
    "IMAGE_SIZE = 28\n",
    "IMAGE_PIXELS = IMAGE_SIZE * IMAGE_SIZE\n",
    "NUM_LABELS = 10\n",
    "\n",
    "def reformat(dataset, labels):\n",
    "    dataset = dataset.reshape((-1, IMAGE_PIXELS)).astype(np.float32)\n",
    "    # Map 0 to [1.0, 0.0, 0.0 ...], 1 to [0.0, 1.0, 0.0 ...]\n",
    "    labels = (np.arange(NUM_LABELS) == labels[:,None]).astype(np.float32)\n",
    "    return dataset, labels\n",
    "train_dataset, train_labels = reformat(train_dataset, train_labels)\n",
    "valid_dataset, valid_labels = reformat(valid_dataset, valid_labels)\n",
    "test_dataset, test_labels = reformat(test_dataset, test_labels)\n",
    "print('Training set', train_dataset.shape, train_labels.shape)\n",
    "print('Validation set', valid_dataset.shape, valid_labels.shape)\n",
    "print('Test set', test_dataset.shape, test_labels.shape)"
   ]
  },
  {
   "cell_type": "code",
   "execution_count": 4,
   "metadata": {
    "collapsed": true
   },
   "outputs": [],
   "source": [
    "def accuracy(predictions, labels):\n",
    "    return (100.0 * np.sum(np.argmax(predictions, 1) == np.argmax(labels, 1)) / predictions.shape[0])"
   ]
  },
  {
   "cell_type": "markdown",
   "metadata": {},
   "source": [
    "## Problem 1\n",
    "Let's introduce and tune L2 regularization for both logistic and neural network models. L2 amounts to adding a penalty on the norm of the weights to the loss. In TensorFlow, we can compute the L2 loss for a tensor `t` using `nn.l2_loss(t)`. The right amount of regularization should improve our validation / test accuracy."
   ]
  },
  {
   "cell_type": "code",
   "execution_count": 5,
   "metadata": {
    "collapsed": true
   },
   "outputs": [],
   "source": [
    "# With gradient descent training, even this much data is prohibitive.\n",
    "# Subset the training data for faster turnaround.\n",
    "train_subset = 10000\n",
    "l2_beta = 0.01\n",
    "\n",
    "graph = tf.Graph()\n",
    "with graph.as_default():\n",
    "\n",
    "    # Input data.\n",
    "    # Load the training, validation and test data into constants that are attached to the graph.\n",
    "    tf_train_dataset = tf.constant(train_dataset[:train_subset, :])\n",
    "    tf_train_labels = tf.constant(train_labels[:train_subset])\n",
    "    tf_valid_dataset = tf.constant(valid_dataset)\n",
    "    tf_test_dataset = tf.constant(test_dataset)\n",
    "  \n",
    "    # Variables.\n",
    "    # These are the parameters that we are going to be training. The weight matrix will be initialized \n",
    "    # using random values following a (truncated) normal distribution. The biases get initialized to zero.\n",
    "    weights = tf.Variable(tf.truncated_normal([IMAGE_PIXELS, NUM_LABELS],\n",
    "                                              stddev=1.0/np.sqrt(float(IMAGE_PIXELS))))\n",
    "    biases = tf.Variable(tf.zeros([NUM_LABELS]))\n",
    "  \n",
    "    # Training computation.\n",
    "    # We multiply the inputs with the weight matrix, and add biases. We compute the softmax and cross-entropy\n",
    "    # (it's one operation in TensorFlow, because it's very common, and it can be optimized). We take the average\n",
    "    # of this cross-entropy across all training examples: that's our loss.\n",
    "    logits = tf.matmul(tf_train_dataset, weights) + biases\n",
    "    loss = tf.reduce_mean(tf.nn.softmax_cross_entropy_with_logits(labels=tf_train_labels, logits=logits)) \\\n",
    "            + l2_beta * tf.nn.l2_loss(weights)\n",
    "  \n",
    "    # Optimizer.\n",
    "    # We are going to find the minimum of this loss using gradient descent.\n",
    "    optimizer = tf.train.GradientDescentOptimizer(0.5).minimize(loss)\n",
    "  \n",
    "    # Predictions for the training, validation, and test data.\n",
    "    # These are not part of training, but merely here so that we can report accuracy figures as we train.\n",
    "    train_prediction = tf.nn.softmax(logits)\n",
    "    valid_prediction = tf.nn.softmax(tf.matmul(tf_valid_dataset, weights) + biases)\n",
    "    test_prediction = tf.nn.softmax(tf.matmul(tf_test_dataset, weights) + biases)"
   ]
  },
  {
   "cell_type": "markdown",
   "metadata": {},
   "source": [
    "Let's run this computation and iterate:"
   ]
  },
  {
   "cell_type": "code",
   "execution_count": 6,
   "metadata": {},
   "outputs": [
    {
     "name": "stdout",
     "output_type": "stream",
     "text": [
      "Initialized\n",
      "Loss at step 0: 2.323459\n",
      "Training accuracy: 14.9%\n",
      "Validation accuracy: 65.1%\n",
      "Loss at step 100: 0.708942\n",
      "Training accuracy: 83.8%\n",
      "Validation accuracy: 81.7%\n",
      "Loss at step 200: 0.688805\n",
      "Training accuracy: 84.5%\n",
      "Validation accuracy: 81.9%\n",
      "Loss at step 300: 0.682661\n",
      "Training accuracy: 84.7%\n",
      "Validation accuracy: 82.0%\n",
      "Loss at step 400: 0.680448\n",
      "Training accuracy: 84.7%\n",
      "Validation accuracy: 82.0%\n",
      "Loss at step 500: 0.679551\n",
      "Training accuracy: 84.8%\n",
      "Validation accuracy: 82.1%\n",
      "Loss at step 600: 0.679143\n",
      "Training accuracy: 84.8%\n",
      "Validation accuracy: 82.1%\n",
      "Loss at step 700: 0.678935\n",
      "Training accuracy: 84.9%\n",
      "Validation accuracy: 82.1%\n",
      "Loss at step 800: 0.678816\n",
      "Training accuracy: 84.9%\n",
      "Validation accuracy: 82.1%\n",
      "Test accuracy: 88.8%\n"
     ]
    }
   ],
   "source": [
    "num_steps = 801\n",
    "\n",
    "def accuracy(predictions, labels):\n",
    "    return (100.0 * np.sum(np.argmax(predictions, 1) == np.argmax(labels, 1))\n",
    "          / predictions.shape[0])\n",
    "\n",
    "with tf.Session(graph=graph) as session:\n",
    "    # This is a one-time operation which ensures the parameters get initialized as\n",
    "    # we described in the graph: random weights for the matrix, zeros for the biases. \n",
    "    tf.global_variables_initializer().run()\n",
    "    print('Initialized')\n",
    "    for step in range(num_steps):\n",
    "        # Run the computations. We tell .run() that we want to run the optimizer,\n",
    "        # and get the loss value and the training predictions returned as numpy arrays.\n",
    "        _, l, predictions = session.run([optimizer, loss, train_prediction])\n",
    "        if (step % 100 == 0):\n",
    "            print('Loss at step %d: %f' % (step, l))\n",
    "            print('Training accuracy: %.1f%%' % accuracy(predictions, train_labels[:train_subset, :]))\n",
    "            # Calling .eval() on valid_prediction is basically like calling run(), but\n",
    "            # just to get that one numpy array. Note that it recomputes all its graph\n",
    "            # dependencies.\n",
    "            print('Validation accuracy: %.1f%%' % accuracy(valid_prediction.eval(), valid_labels))\n",
    "    print('Test accuracy: %.1f%%' % accuracy(test_prediction.eval(), test_labels))"
   ]
  },
  {
   "cell_type": "markdown",
   "metadata": {},
   "source": [
    "Let's now switch to stochastic gradient descent training instead, which is much faster.\n",
    "The graph will be similar, except that instead of holding all the training data into a constant node, we create a Placeholder node which will be fed actual data at every call of `session.run()`."
   ]
  },
  {
   "cell_type": "code",
   "execution_count": 7,
   "metadata": {
    "collapsed": true
   },
   "outputs": [],
   "source": [
    "BATCH_SIZE = 128\n",
    "HIDDEN_NODES = 1024\n",
    "\n",
    "graph = tf.Graph()\n",
    "with graph.as_default():\n",
    "\n",
    "    # Input data. For the training data, we use a placeholder that will be fed\n",
    "    # at run time with a training minibatch.\n",
    "    tf_train_dataset = tf.placeholder(tf.float32, shape=(BATCH_SIZE, IMAGE_PIXELS))\n",
    "    tf_train_labels = tf.placeholder(tf.float32, shape=(BATCH_SIZE, NUM_LABELS))\n",
    "    tf_valid_dataset = tf.constant(valid_dataset)\n",
    "    tf_test_dataset = tf.constant(test_dataset)\n",
    "    l2_beta = tf.placeholder(tf.float32)  # factor for regularization penalty\n",
    "  \n",
    "    # Variables.\n",
    "    w1 = tf.Variable(tf.truncated_normal([IMAGE_PIXELS, HIDDEN_NODES],\n",
    "                                         stddev=1.0/np.sqrt(float(IMAGE_PIXELS))))\n",
    "    b1 = tf.Variable(tf.zeros([HIDDEN_NODES]))\n",
    "    w2 = tf.Variable(tf.truncated_normal([HIDDEN_NODES, NUM_LABELS],\n",
    "                                         stddev=1.0/np.sqrt(float(IMAGE_PIXELS))))\n",
    "    b2 = tf.Variable(tf.zeros([NUM_LABELS]))\n",
    "  \n",
    "    # Training computation.\n",
    "    hidden1 = tf.nn.relu(tf.matmul(tf_train_dataset, w1) + b1)\n",
    "    logits = tf.matmul(hidden1, w2) + b2\n",
    "    loss = tf.reduce_mean(tf.nn.softmax_cross_entropy_with_logits(labels=tf_train_labels, logits=logits)) \\\n",
    "            + l2_beta * (tf.nn.l2_loss(w1) + tf.nn.l2_loss(w2))\n",
    "  \n",
    "    # Optimizer. \n",
    "    optimizer = tf.train.GradientDescentOptimizer(0.5).minimize(loss)\n",
    "  \n",
    "    # Predictions for the training, validation, and test data.\n",
    "    train_prediction = tf.nn.softmax(logits)\n",
    "    hidden1_valid = tf.nn.relu(tf.matmul(tf_valid_dataset, w1) + b1)\n",
    "    valid_prediction = tf.nn.softmax(tf.matmul(hidden1_valid, w2) + b2)\n",
    "    hidden1_test = tf.nn.relu(tf.matmul(tf_test_dataset, w1) + b1)\n",
    "    test_prediction = tf.nn.softmax(tf.matmul(hidden1_test, w2) + b2)"
   ]
  },
  {
   "cell_type": "markdown",
   "metadata": {},
   "source": [
    "Let's run it:\n"
   ]
  },
  {
   "cell_type": "code",
   "execution_count": 8,
   "metadata": {},
   "outputs": [
    {
     "name": "stdout",
     "output_type": "stream",
     "text": [
      "Initialized\n",
      "Minibatch loss at step 0: 4.326218\n",
      "Minibatch accuracy: 7.8%\n",
      "Validation accuracy: 39.6%\n",
      "Minibatch loss at step 500: 0.672074\n",
      "Minibatch accuracy: 89.1%\n",
      "Validation accuracy: 84.3%\n",
      "Minibatch loss at step 1000: 0.736165\n",
      "Minibatch accuracy: 82.8%\n",
      "Validation accuracy: 84.2%\n",
      "Minibatch loss at step 1500: 0.492880\n",
      "Minibatch accuracy: 89.1%\n",
      "Validation accuracy: 85.2%\n",
      "Minibatch loss at step 2000: 0.517733\n",
      "Minibatch accuracy: 92.2%\n",
      "Validation accuracy: 84.9%\n",
      "Minibatch loss at step 2500: 0.627064\n",
      "Minibatch accuracy: 85.9%\n",
      "Validation accuracy: 84.5%\n",
      "Minibatch loss at step 3000: 0.658148\n",
      "Minibatch accuracy: 85.9%\n",
      "Validation accuracy: 85.0%\n",
      "Test accuracy: 91.7%\n"
     ]
    }
   ],
   "source": [
    "num_steps = 3001\n",
    "\n",
    "with tf.Session(graph=graph) as session:\n",
    "    tf.global_variables_initializer().run()\n",
    "    print(\"Initialized\")\n",
    "    for step in range(num_steps):\n",
    "        # Pick an offset within the training data, which has been randomized.\n",
    "        # Note: we could use better randomization across epochs.\n",
    "        offset = (step * BATCH_SIZE) % (train_labels.shape[0] - BATCH_SIZE)\n",
    "        # Generate a minibatch.\n",
    "        batch_data = train_dataset[offset:(offset + BATCH_SIZE), :]\n",
    "        batch_labels = train_labels[offset:(offset + BATCH_SIZE), :]\n",
    "        # Prepare a dictionary telling the session where to feed the minibatch.\n",
    "        # The key of the dictionary is the placeholder node of the graph to be fed,\n",
    "        # and the value is the numpy array to feed to it.\n",
    "        feed_dict = {tf_train_dataset: batch_data, tf_train_labels: batch_labels, l2_beta: 0.005}\n",
    "        _, l, predictions = session.run([optimizer, loss, train_prediction], feed_dict=feed_dict)\n",
    "        if (step % 500 == 0):\n",
    "            print(\"Minibatch loss at step %d: %f\" % (step, l))\n",
    "            print(\"Minibatch accuracy: %.1f%%\" % accuracy(predictions, batch_labels))\n",
    "            print(\"Validation accuracy: %.1f%%\" % accuracy(valid_prediction.eval(), valid_labels))\n",
    "    print(\"Test accuracy: %.1f%%\" % accuracy(test_prediction.eval(), test_labels))"
   ]
  },
  {
   "cell_type": "markdown",
   "metadata": {},
   "source": [
    "## Problem 2\n",
    "Let's demonstrate an extreme case of overfitting by restricting the training data, see how the accuracy on the test reduces. We will run fewer steps of gradient descent only on the first few batches of training data."
   ]
  },
  {
   "cell_type": "code",
   "execution_count": 9,
   "metadata": {},
   "outputs": [
    {
     "name": "stdout",
     "output_type": "stream",
     "text": [
      "Initialized\n",
      "Minibatch loss at step 0: 2.363691\n",
      "Minibatch accuracy: 7.8%\n",
      "Validation accuracy: 33.4%\n",
      "Minibatch loss at step 50: 0.042726\n",
      "Minibatch accuracy: 100.0%\n",
      "Validation accuracy: 78.1%\n",
      "Minibatch loss at step 100: 0.019839\n",
      "Minibatch accuracy: 100.0%\n",
      "Validation accuracy: 78.4%\n",
      "Test accuracy: 85.5%\n"
     ]
    }
   ],
   "source": [
    "num_steps = 101\n",
    "NUM_BATCHES = 3\n",
    "\n",
    "with tf.Session(graph=graph) as session:\n",
    "    tf.global_variables_initializer().run()\n",
    "    print(\"Initialized\")\n",
    "    for step in range(num_steps):\n",
    "        # Pick an offset within the training data, which has been randomized.\n",
    "        # Note: we could use better randomization across epochs.\n",
    "        offset = ((step % NUM_BATCHES) * BATCH_SIZE) % (train_labels.shape[0] - BATCH_SIZE)\n",
    "        # Generate a minibatch.\n",
    "        batch_data = train_dataset[offset:(offset + BATCH_SIZE), :]\n",
    "        batch_labels = train_labels[offset:(offset + BATCH_SIZE), :]\n",
    "        # Prepare a dictionary telling the session where to feed the minibatch.\n",
    "        # The key of the dictionary is the placeholder node of the graph to be fed,\n",
    "        # and the value is the numpy array to feed to it.\n",
    "        feed_dict = {tf_train_dataset: batch_data, tf_train_labels: batch_labels, l2_beta: 0}\n",
    "        _, l, predictions = session.run([optimizer, loss, train_prediction], feed_dict=feed_dict)\n",
    "        if (step % 50 == 0):\n",
    "            print(\"Minibatch loss at step %d: %f\" % (step, l))\n",
    "            print(\"Minibatch accuracy: %.1f%%\" % accuracy(predictions, batch_labels))\n",
    "            print(\"Validation accuracy: %.1f%%\" % accuracy(valid_prediction.eval(), valid_labels))\n",
    "    print(\"Test accuracy: %.1f%%\" % accuracy(test_prediction.eval(), test_labels))"
   ]
  },
  {
   "cell_type": "markdown",
   "metadata": {},
   "source": [
    "As expected, the network quickly overfits to the small data and the minibatch accuracy gets to 100%. However, it fails to generalize, leading to a poor test score."
   ]
  },
  {
   "cell_type": "markdown",
   "metadata": {},
   "source": [
    "## Problem 3\n",
    "Now let's introduce Dropout on the hidden layer of the neural network. Note that dropout is only introduced during training, not evaluation, otherwise the evaluation results would be stochastic as well. TensorFlow provides `nn.dropout()` for that. "
   ]
  },
  {
   "cell_type": "code",
   "execution_count": 10,
   "metadata": {
    "collapsed": true
   },
   "outputs": [],
   "source": [
    "BATCH_SIZE = 128\n",
    "HIDDEN_NODES = 1024\n",
    "\n",
    "graph = tf.Graph()\n",
    "with graph.as_default():\n",
    "\n",
    "    # Input data. For the training data, we use a placeholder that will be fed\n",
    "    # at run time with a training minibatch.\n",
    "    tf_train_dataset = tf.placeholder(tf.float32, shape=(BATCH_SIZE, IMAGE_PIXELS))\n",
    "    tf_train_labels = tf.placeholder(tf.float32, shape=(BATCH_SIZE, NUM_LABELS))\n",
    "    tf_valid_dataset = tf.constant(valid_dataset)\n",
    "    tf_test_dataset = tf.constant(test_dataset)\n",
    "    l2_beta = tf.placeholder(tf.float32)  # factor for regularization penalty\n",
    "    do_keep_prob = tf.placeholder(tf.float32)  # dropout keep probability\n",
    "  \n",
    "    # Variables.\n",
    "    w1 = tf.Variable(tf.truncated_normal([IMAGE_PIXELS, HIDDEN_NODES],\n",
    "                                         stddev=1.0/np.sqrt(float(IMAGE_PIXELS))))\n",
    "    b1 = tf.Variable(tf.zeros([HIDDEN_NODES]))\n",
    "    w2 = tf.Variable(tf.truncated_normal([HIDDEN_NODES, NUM_LABELS],\n",
    "                                         stddev=1.0/np.sqrt(float(IMAGE_PIXELS))))\n",
    "    b2 = tf.Variable(tf.zeros([NUM_LABELS]))\n",
    "  \n",
    "    # Training computation.\n",
    "    hidden1 = tf.nn.dropout(tf.nn.relu(tf.matmul(tf_train_dataset, w1) + b1), do_keep_prob)\n",
    "    logits = tf.matmul(hidden1, w2) + b2\n",
    "    loss = tf.reduce_mean(tf.nn.softmax_cross_entropy_with_logits(labels=tf_train_labels, logits=logits)) \\\n",
    "            + l2_beta * (tf.nn.l2_loss(w1) + tf.nn.l2_loss(w2))\n",
    "  \n",
    "    # Optimizer. \n",
    "    optimizer = tf.train.GradientDescentOptimizer(0.5).minimize(loss)\n",
    "  \n",
    "    # Predictions for the training, validation, and test data.\n",
    "    train_prediction = tf.nn.softmax(logits)\n",
    "    hidden1_valid = tf.nn.relu(tf.matmul(tf_valid_dataset, w1) + b1)\n",
    "    valid_prediction = tf.nn.softmax(tf.matmul(hidden1_valid, w2) + b2)\n",
    "    hidden1_test = tf.nn.relu(tf.matmul(tf_test_dataset, w1) + b1)\n",
    "    test_prediction = tf.nn.softmax(tf.matmul(hidden1_test, w2) + b2)"
   ]
  },
  {
   "cell_type": "code",
   "execution_count": 11,
   "metadata": {},
   "outputs": [
    {
     "name": "stdout",
     "output_type": "stream",
     "text": [
      "Initialized\n",
      "Minibatch loss at step 0: 2.383565\n",
      "Minibatch accuracy: 4.7%\n",
      "Validation accuracy: 37.8%\n",
      "Minibatch loss at step 50: 0.061826\n",
      "Minibatch accuracy: 100.0%\n",
      "Validation accuracy: 78.2%\n",
      "Minibatch loss at step 100: 0.043888\n",
      "Minibatch accuracy: 99.2%\n",
      "Validation accuracy: 78.6%\n",
      "Test accuracy: 85.5%\n"
     ]
    }
   ],
   "source": [
    "num_steps = 101\n",
    "NUM_BATCHES = 3\n",
    "\n",
    "with tf.Session(graph=graph) as session:\n",
    "    tf.global_variables_initializer().run()\n",
    "    print(\"Initialized\")\n",
    "    for step in range(num_steps):\n",
    "        # Pick an offset within the training data, which has been randomized.\n",
    "        # Note: we could use better randomization across epochs.\n",
    "        offset = ((step % NUM_BATCHES) * BATCH_SIZE) % (train_labels.shape[0] - BATCH_SIZE)\n",
    "        # Generate a minibatch.\n",
    "        batch_data = train_dataset[offset:(offset + BATCH_SIZE), :]\n",
    "        batch_labels = train_labels[offset:(offset + BATCH_SIZE), :]\n",
    "        # Prepare a dictionary telling the session where to feed the minibatch.\n",
    "        # The key of the dictionary is the placeholder node of the graph to be fed,\n",
    "        # and the value is the numpy array to feed to it.\n",
    "        feed_dict = {tf_train_dataset: batch_data, tf_train_labels: batch_labels, l2_beta: 0, do_keep_prob: 0.5}\n",
    "        _, l, predictions = session.run([optimizer, loss, train_prediction], feed_dict=feed_dict)\n",
    "        if (step % 50 == 0):\n",
    "            print(\"Minibatch loss at step %d: %f\" % (step, l))\n",
    "            print(\"Minibatch accuracy: %.1f%%\" % accuracy(predictions, batch_labels))\n",
    "            print(\"Validation accuracy: %.1f%%\" % accuracy(valid_prediction.eval(), valid_labels))\n",
    "    print(\"Test accuracy: %.1f%%\" % accuracy(test_prediction.eval(), test_labels))"
   ]
  },
  {
   "cell_type": "markdown",
   "metadata": {},
   "source": [
    "Notice how we still are able to get 100% accuracy on the minibatch, but our generalized score is better. This is due to dropout forcing the network to learn multiple representations of the small training data, helping on newer cases."
   ]
  },
  {
   "cell_type": "markdown",
   "metadata": {},
   "source": [
    "## Problem 4\n",
    "Now let's try to get the best performance we can using a multi-layer model! According to Yaroslav Bulatov the best reported test accuracy using a deep network is 97.1%.\n",
    "We will explore two paths:\n",
    "* Adding a new fully-connected hidden layer of 256 nodes, effectively making our network 796-1024-256-10 nodes; and\n",
    "* Using learning rate decay as shown on this code snippet:\n",
    "```\n",
    "global_step = tf.Variable(0)  # count the number of steps taken.\n",
    "learning_rate = tf.train.exponential_decay(0.5, global_step, ...)\n",
    "optimizer = tf.train.GradientDescentOptimizer(learning_rate).minimize(loss, global_step=global_step)\n",
    "```"
   ]
  },
  {
   "cell_type": "code",
   "execution_count": 12,
   "metadata": {
    "collapsed": true
   },
   "outputs": [],
   "source": [
    "BATCH_SIZE = 128\n",
    "HIDDEN_NODES_1 = 1024\n",
    "HIDDEN_NODES_2 = 256\n",
    "\n",
    "graph = tf.Graph()\n",
    "with graph.as_default():\n",
    "\n",
    "    # Input data. For the training data, we use a placeholder that will be fed\n",
    "    # at run time with a training minibatch.\n",
    "    tf_train_dataset = tf.placeholder(tf.float32, shape=(BATCH_SIZE, IMAGE_PIXELS))\n",
    "    tf_train_labels = tf.placeholder(tf.float32, shape=(BATCH_SIZE, NUM_LABELS))\n",
    "    tf_valid_dataset = tf.constant(valid_dataset)\n",
    "    tf_test_dataset = tf.constant(test_dataset)\n",
    "    l2_beta = tf.placeholder(tf.float32)  # factor for regularization penalty\n",
    "    do_keep_prob = tf.placeholder(tf.float32)  # dropout keep probability\n",
    "    global_step = tf.Variable(0)  # count the number of steps taken.\n",
    "  \n",
    "    # Variables.\n",
    "    w1 = tf.Variable(tf.truncated_normal([IMAGE_PIXELS, HIDDEN_NODES_1],\n",
    "                                         stddev=1.0/np.sqrt(float(IMAGE_PIXELS))))\n",
    "    b1 = tf.Variable(tf.zeros([HIDDEN_NODES_1]))\n",
    "    w2 = tf.Variable(tf.truncated_normal([HIDDEN_NODES_1, HIDDEN_NODES_2],\n",
    "                                         stddev=1.0/np.sqrt(float(IMAGE_PIXELS))))\n",
    "    b2 = tf.Variable(tf.zeros([HIDDEN_NODES_2]))\n",
    "    w3 = tf.Variable(tf.truncated_normal([HIDDEN_NODES_2, NUM_LABELS],\n",
    "                                         stddev=1.0/np.sqrt(float(IMAGE_PIXELS))))\n",
    "    b3 = tf.Variable(tf.zeros([NUM_LABELS]))\n",
    "  \n",
    "    # Training computation.\n",
    "    hidden1 = tf.nn.dropout(tf.nn.relu(tf.matmul(tf_train_dataset, w1) + b1), do_keep_prob)\n",
    "    hidden2 = tf.nn.dropout(tf.nn.relu(tf.matmul(hidden1, w2) + b2), do_keep_prob)\n",
    "    logits = tf.matmul(hidden2, w3) + b3\n",
    "    loss = tf.reduce_mean(tf.nn.softmax_cross_entropy_with_logits(labels=tf_train_labels, logits=logits)) \\\n",
    "            + l2_beta * (tf.nn.l2_loss(w1) + tf.nn.l2_loss(w2) + tf.nn.l2_loss(w3))\n",
    "  \n",
    "    # Optimizer. \n",
    "    learning_rate = tf.train.exponential_decay(0.1, global_step, decay_steps=200, decay_rate=0.95)\n",
    "    optimizer = tf.train.GradientDescentOptimizer(learning_rate).minimize(loss, global_step=global_step)\n",
    "  \n",
    "    # Predictions for the training, validation, and test data.\n",
    "    train_prediction = tf.nn.softmax(logits)\n",
    "    hidden1_valid = tf.nn.relu(tf.matmul(tf_valid_dataset, w1) + b1)\n",
    "    hidden2_valid = tf.nn.relu(tf.matmul(hidden1_valid, w2) + b2)\n",
    "    valid_prediction = tf.nn.softmax(tf.matmul(hidden2_valid, w3) + b3)\n",
    "    hidden1_test = tf.nn.relu(tf.matmul(tf_test_dataset, w1) + b1)\n",
    "    hidden2_test = tf.nn.relu(tf.matmul(hidden1_test, w2) + b2)\n",
    "    test_prediction = tf.nn.softmax(tf.matmul(hidden2_test, w3) + b3)"
   ]
  },
  {
   "cell_type": "markdown",
   "metadata": {},
   "source": [
    "Before expanding the model, let's try to tune our hyperparemeters on a smaller scale..."
   ]
  },
  {
   "cell_type": "code",
   "execution_count": 13,
   "metadata": {
    "collapsed": true
   },
   "outputs": [],
   "source": [
    "def run_session(graph, num_steps, beta, dropout, batch_size=128, num_batches=num_steps, verbose=True):\n",
    "    with tf.Session(graph=graph) as session:\n",
    "        tf.global_variables_initializer().run()\n",
    "        print(\"Initialized\")\n",
    "        for step in range(num_steps):\n",
    "            # Pick an offset within the training data, which has been randomized.\n",
    "            # Note: we could use better randomization across epochs.\n",
    "            offset = ((step % num_batches) * batch_size) % (train_labels.shape[0] - batch_size)\n",
    "            # Generate a minibatch.\n",
    "            batch_data = train_dataset[offset:(offset + batch_size), :]\n",
    "            batch_labels = train_labels[offset:(offset + batch_size), :]\n",
    "            # Prepare a dictionary telling the session where to feed the minibatch.\n",
    "            # The key of the dictionary is the placeholder node of the graph to be fed,\n",
    "            # and the value is the numpy array to feed to it.\n",
    "            feed_dict = {tf_train_dataset: batch_data, tf_train_labels: batch_labels, l2_beta: beta,\n",
    "                         do_keep_prob: dropout}\n",
    "            _, lr, l, predictions = session.run([optimizer, learning_rate, loss, train_prediction], feed_dict=feed_dict)\n",
    "            if (step % (num_steps/10) == 0) and verbose == True:\n",
    "                print(\"Minibatch loss at step %d: %f\" % (step, l))\n",
    "                print(\"Minibatch accuracy: %.1f%%\" % accuracy(predictions, batch_labels))\n",
    "                print(\"Validation accuracy: %.1f%%\" % accuracy(valid_prediction.eval(), valid_labels))\n",
    "                print(\"Learning rate: %.3f\" % lr)\n",
    "        print(\"Test accuracy: %.1f%%\" % accuracy(test_prediction.eval(), test_labels))\n",
    "        return accuracy(test_prediction.eval(), test_labels)"
   ]
  },
  {
   "cell_type": "code",
   "execution_count": 14,
   "metadata": {
    "scrolled": true
   },
   "outputs": [
    {
     "name": "stdout",
     "output_type": "stream",
     "text": [
      "Beta: 0.000\n",
      "Initialized\n",
      "Test accuracy: 91.7%\n",
      "Beta: 0.001\n",
      "Initialized\n",
      "Test accuracy: 91.8%\n",
      "Beta: 0.002\n",
      "Initialized\n",
      "Test accuracy: 91.7%\n",
      "Beta: 0.003\n",
      "Initialized\n",
      "Test accuracy: 91.8%\n",
      "Beta: 0.004\n",
      "Initialized\n",
      "Test accuracy: 91.7%\n",
      "Beta: 0.005\n",
      "Initialized\n",
      "Test accuracy: 91.5%\n",
      "Beta: 0.006\n",
      "Initialized\n",
      "Test accuracy: 91.4%\n",
      "Beta: 0.007\n",
      "Initialized\n",
      "Test accuracy: 91.2%\n",
      "Beta: 0.008\n",
      "Initialized\n",
      "Test accuracy: 91.2%\n",
      "Beta: 0.009\n",
      "Initialized\n",
      "Test accuracy: 91.0%\n"
     ]
    }
   ],
   "source": [
    "param = [i for i in np.arange(0, 1e-2, 1e-3)]\n",
    "results = []\n",
    "\n",
    "for i in param:\n",
    "    print(\"Beta: %0.3f\" % i)\n",
    "    results.append(run_session(graph, 2000, beta=i, dropout=1, verbose=False))"
   ]
  },
  {
   "cell_type": "code",
   "execution_count": 15,
   "metadata": {
    "scrolled": true
   },
   "outputs": [
    {
     "data": {
      "image/png": "[encoded data removed]",
      "text/plain": [
       "<matplotlib.figure.Figure at 0x11bafb510>"
      ]
     },
     "metadata": {},
     "output_type": "display_data"
    }
   ],
   "source": [
    "plt.semilogx(param, results)\n",
    "plt.grid(True)\n",
    "plt.title('Test accuracy by regularization beta')\n",
    "plt.show()"
   ]
  },
  {
   "cell_type": "code",
   "execution_count": 16,
   "metadata": {
    "scrolled": true
   },
   "outputs": [
    {
     "name": "stdout",
     "output_type": "stream",
     "text": [
      "Dropout: 1.00\n",
      "Initialized\n",
      "Test accuracy: 91.6%\n",
      "Dropout: 0.95\n",
      "Initialized\n",
      "Test accuracy: 91.7%\n",
      "Dropout: 0.90\n",
      "Initialized\n",
      "Test accuracy: 91.9%\n",
      "Dropout: 0.85\n",
      "Initialized\n",
      "Test accuracy: 91.9%\n",
      "Dropout: 0.80\n",
      "Initialized\n",
      "Test accuracy: 92.0%\n",
      "Dropout: 0.75\n",
      "Initialized\n",
      "Test accuracy: 92.0%\n",
      "Dropout: 0.70\n",
      "Initialized\n",
      "Test accuracy: 92.0%\n",
      "Dropout: 0.65\n",
      "Initialized\n",
      "Test accuracy: 91.8%\n",
      "Dropout: 0.60\n",
      "Initialized\n",
      "Test accuracy: 91.9%\n",
      "Dropout: 0.55\n",
      "Initialized\n",
      "Test accuracy: 91.8%\n",
      "Dropout: 0.50\n",
      "Initialized\n",
      "Test accuracy: 92.0%\n",
      "Dropout: 0.45\n",
      "Initialized\n",
      "Test accuracy: 91.6%\n",
      "Dropout: 0.40\n",
      "Initialized\n",
      "Test accuracy: 91.4%\n",
      "Dropout: 0.35\n",
      "Initialized\n",
      "Test accuracy: 91.2%\n",
      "Dropout: 0.30\n",
      "Initialized\n",
      "Test accuracy: 91.0%\n"
     ]
    }
   ],
   "source": [
    "param = [i for i in np.arange(1, 0.25, -0.05)]\n",
    "results = []\n",
    "\n",
    "for i in param:\n",
    "    print(\"Dropout: %0.2f\" % i)\n",
    "    results.append(run_session(graph, 2000, beta=0, dropout=i, verbose=False))"
   ]
  },
  {
   "cell_type": "code",
   "execution_count": null,
   "metadata": {
    "collapsed": true,
    "scrolled": true
   },
   "outputs": [],
   "source": [
    "plt.semilogx(param, results)\n",
    "plt.grid(True)\n",
    "plt.title('Test accuracy by dropout keep probability')\n",
    "plt.show()"
   ]
  },
  {
   "cell_type": "code",
   "execution_count": null,
   "metadata": {
    "collapsed": true
   },
   "outputs": [],
   "source": [
    "BATCH_SIZE = 128\n",
    "HIDDEN_NODES_1 = 1024\n",
    "HIDDEN_NODES_2 = 1024\n",
    "\n",
    "graph = tf.Graph()\n",
    "with graph.as_default():\n",
    "\n",
    "    # Input data. For the training data, we use a placeholder that will be fed\n",
    "    # at run time with a training minibatch.\n",
    "    tf_train_dataset = tf.placeholder(tf.float32, shape=(BATCH_SIZE, IMAGE_PIXELS))\n",
    "    tf_train_labels = tf.placeholder(tf.float32, shape=(BATCH_SIZE, NUM_LABELS))\n",
    "    tf_valid_dataset = tf.constant(valid_dataset)\n",
    "    tf_test_dataset = tf.constant(test_dataset)\n",
    "    l2_beta = tf.placeholder(tf.float32)  # factor for regularization penalty\n",
    "    do_keep_prob = tf.placeholder(tf.float32)  # dropout keep probability\n",
    "    global_step = tf.Variable(0)  # count the number of steps taken.\n",
    "  \n",
    "    # Variables.\n",
    "    w1 = tf.Variable(tf.truncated_normal([IMAGE_PIXELS, HIDDEN_NODES_1],\n",
    "                                         stddev=1.0/np.sqrt(float(IMAGE_PIXELS))))\n",
    "    b1 = tf.Variable(tf.zeros([HIDDEN_NODES_1]))\n",
    "    w2 = tf.Variable(tf.truncated_normal([HIDDEN_NODES_1, HIDDEN_NODES_2],\n",
    "                                         stddev=1.0/np.sqrt(float(IMAGE_PIXELS))))\n",
    "    b2 = tf.Variable(tf.zeros([HIDDEN_NODES_2]))\n",
    "    w3 = tf.Variable(tf.truncated_normal([HIDDEN_NODES_2, NUM_LABELS],\n",
    "                                         stddev=1.0/np.sqrt(float(IMAGE_PIXELS))))\n",
    "    b3 = tf.Variable(tf.zeros([NUM_LABELS]))\n",
    "  \n",
    "    # Training computation.\n",
    "    hidden1 = tf.nn.dropout(tf.nn.relu(tf.matmul(tf_train_dataset, w1) + b1), do_keep_prob)\n",
    "    hidden2 = tf.nn.dropout(tf.nn.relu(tf.matmul(hidden1, w2) + b2), do_keep_prob)\n",
    "    logits = tf.matmul(hidden2, w3) + b3\n",
    "    loss = tf.reduce_mean(tf.nn.softmax_cross_entropy_with_logits(labels=tf_train_labels, logits=logits)) \\\n",
    "            + l2_beta * (tf.nn.l2_loss(w1) + tf.nn.l2_loss(w2) + tf.nn.l2_loss(w3))\n",
    "  \n",
    "    # Optimizer. \n",
    "    learning_rate = tf.train.exponential_decay(0.1, global_step, decay_steps=200, decay_rate=0.95)\n",
    "    optimizer = tf.train.GradientDescentOptimizer(learning_rate).minimize(loss, global_step=global_step)\n",
    "  \n",
    "    # Predictions for the training, validation, and test data.\n",
    "    train_prediction = tf.nn.softmax(logits)\n",
    "    hidden1_valid = tf.nn.relu(tf.matmul(tf_valid_dataset, w1) + b1)\n",
    "    hidden2_valid = tf.nn.relu(tf.matmul(hidden1_valid, w2) + b2)\n",
    "    valid_prediction = tf.nn.softmax(tf.matmul(hidden2_valid, w3) + b3)\n",
    "    hidden1_test = tf.nn.relu(tf.matmul(tf_test_dataset, w1) + b1)\n",
    "    hidden2_test = tf.nn.relu(tf.matmul(hidden1_test, w2) + b2)\n",
    "    test_prediction = tf.nn.softmax(tf.matmul(hidden2_test, w3) + b3)"
   ]
  },
  {
   "cell_type": "code",
   "execution_count": null,
   "metadata": {
    "collapsed": true
   },
   "outputs": [],
   "source": [
    "run_session(graph, 8000, beta=1e-3, dropout=0.75, verbose=True)"
   ]
  }
 ],
 "metadata": {
  "kernelspec": {
   "display_name": "Python 2",
   "language": "python",
   "name": "python2"
  },
  "language_info": {
   "codemirror_mode": {
    "name": "ipython",
    "version": 2
   },
   "file_extension": ".py",
   "mimetype": "text/x-python",
   "name": "python",
   "nbconvert_exporter": "python",
   "pygments_lexer": "ipython2",
   "version": "2.7.13"
  }
 },
 "nbformat": 4,
 "nbformat_minor": 2
}
